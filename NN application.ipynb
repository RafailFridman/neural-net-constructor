{
 "cells": [
  {
   "cell_type": "code",
   "execution_count": 15,
   "metadata": {},
   "outputs": [
    {
     "data": {
      "text/plain": [
       "'3.6.6 |Anaconda, Inc.| (default, Jun 28 2018, 11:27:44) [MSC v.1900 64 bit (AMD64)]'"
      ]
     },
     "execution_count": 15,
     "metadata": {},
     "output_type": "execute_result"
    }
   ],
   "source": [
    "import sys\n",
    "import numpy as np\n",
    "import matplotlib.pyplot as plt\n",
    "import time\n",
    "import dill as pickle\n",
    "\n",
    "from nn_model import *\n",
    "\n",
    "#this may take a time\n",
    "import tensorflow as tf\n",
    "import keras\n",
    "\n",
    "sys.version"
   ]
  },
  {
   "cell_type": "code",
   "execution_count": 2,
   "metadata": {},
   "outputs": [],
   "source": [
    "fashion_mnist = keras.datasets.fashion_mnist\n",
    "\n",
    "(train_images, train_labels), (test_images, test_labels) = fashion_mnist.load_data()"
   ]
  },
  {
   "cell_type": "code",
   "execution_count": 3,
   "metadata": {
    "collapsed": true
   },
   "outputs": [],
   "source": [
    "class_names = ['T-shirt/top', 'Trouser', 'Pullover', 'Dress', 'Coat', \n",
    "               'Sandal', 'Shirt', 'Sneaker', 'Bag', 'Ankle boot']"
   ]
  },
  {
   "cell_type": "code",
   "execution_count": 4,
   "metadata": {
    "collapsed": true
   },
   "outputs": [],
   "source": [
    "train_images = train_images / 255.0\n",
    "\n",
    "test_images = test_images / 255.0"
   ]
  },
  {
   "cell_type": "code",
   "execution_count": 5,
   "metadata": {},
   "outputs": [],
   "source": [
    "train_labels=np.array(list(map(fromnum,train_labels)))"
   ]
  },
  {
   "cell_type": "code",
   "execution_count": 6,
   "metadata": {
    "collapsed": true
   },
   "outputs": [],
   "source": [
    "clothes_part_train=train_images[:30000]\n",
    "clothes_part_label=train_labels[:30000]\n",
    "clothes_part_train=clothes_part_train.reshape((30000,784))\n",
    "clothes_part_label=clothes_part_label.reshape((30000,10))\n",
    "train_images_flatten = train_images.reshape((60000,784))\n",
    "train_labels_flatten = train_labels.reshape((60000,10))"
   ]
  },
  {
   "cell_type": "code",
   "execution_count": 7,
   "metadata": {},
   "outputs": [
    {
     "name": "stdout",
     "output_type": "stream",
     "text": [
      "True label:  [1. 0. 0. 0. 0. 0. 0. 0. 0. 0.]\n"
     ]
    },
    {
     "data": {
      "text/plain": [
       "<matplotlib.image.AxesImage at 0x2d7d7c34f60>"
      ]
     },
     "execution_count": 7,
     "metadata": {},
     "output_type": "execute_result"
    },
    {
     "data": {
      "image/png": "[encoded data removed]",
      "text/plain": [
       "<Figure size 432x288 with 1 Axes>"
      ]
     },
     "metadata": {},
     "output_type": "display_data"
    }
   ],
   "source": [
    "ind=10\n",
    "label=train_labels[ind]\n",
    "print('True label: ',label)\n",
    "plt.imshow(train_images[ind], cmap=plt.cm.gray_r, interpolation='nearest')"
   ]
  },
  {
   "cell_type": "code",
   "execution_count": 8,
   "metadata": {},
   "outputs": [
    {
     "name": "stdout",
     "output_type": "stream",
     "text": [
      "Cost after iteration 0: 580.493210\n",
      "Cost after iteration 1: 407.587616\n",
      "KeyboardInTerrupt\n",
      "10.902878522872925\n"
     ]
    }
   ],
   "source": [
    "net = NetModel([100,10],activations={1:ReLu,2:sigmoid},input_layer=784,seed=4)\n",
    "st=time()\n",
    "np.random.seed(3)\n",
    "net.fit(clothes_part_train,clothes_part_label,method='SGD',batch_size=16, iterations=50000,lr=0.1,printq=1, lambd = 0)\n",
    "print(time()-st)"
   ]
  },
  {
   "cell_type": "code",
   "execution_count": 10,
   "metadata": {
    "collapsed": true
   },
   "outputs": [
    {
     "name": "stdout",
     "output_type": "stream",
     "text": [
      "True label:  Shirt\n",
      "Predicted:  T-shirt/top\n"
     ]
    },
    {
     "data": {
      "text/plain": [
       "<matplotlib.image.AxesImage at 0x2d7d860ca58>"
      ]
     },
     "execution_count": 10,
     "metadata": {},
     "output_type": "execute_result"
    },
    {
     "data": {
      "image/png": "[encoded data removed]",
      "text/plain": [
       "<Figure size 432x288 with 1 Axes>"
      ]
     },
     "metadata": {},
     "output_type": "display_data"
    }
   ],
   "source": [
    "imnum = 1943\n",
    "x=test_images[imnum]\n",
    "label=test_labels[imnum]\n",
    "print('True label: ',class_names[label])\n",
    "print('Predicted: ',class_names[np.argmax(f_predict(x.reshape(1,784),net.parameters,printq=False))])\n",
    "plt.title('Predicted label: {}\\n True label: {}'.format(class_names[np.argmax(f_predict(x.reshape(1,784),net.parameters,printq= False))],class_names[label]))\n",
    "plt.imshow(x, cmap=plt.cm.gray_r, interpolation='nearest')\n",
    "\n",
    "#label=mnist_part_test_label[imnum]\n",
    "#plt.title('Predicted label: {}\\n True label: {}'.format(np.argmax(net1.predict(np.array([x]),printq= False)),np.argmax(label)))\n",
    "#plt.imshow(norm1, cmap=plt.cm.gray_r, interpolation='nearest')"
   ]
  },
  {
   "cell_type": "code",
   "execution_count": 14,
   "metadata": {
    "collapsed": true
   },
   "outputs": [],
   "source": [
    "with open('data\\CLOTHES_net_v1.pickle', 'rb') as f:\n",
    "    tr_copy=pickle.load(f)"
   ]
  },
  {
   "cell_type": "code",
   "execution_count": 13,
   "metadata": {
    "scrolled": true
   },
   "outputs": [
    {
     "name": "stdout",
     "output_type": "stream",
     "text": [
      "True label:  Pullover\n",
      "Predicted:  Pullover\n"
     ]
    },
    {
     "data": {
      "text/plain": [
       "<matplotlib.image.AxesImage at 0x2d7cea437f0>"
      ]
     },
     "execution_count": 13,
     "metadata": {},
     "output_type": "execute_result"
    },
    {
     "data": {
      "image/png": "[encoded data removed]",
      "text/plain": [
       "<Figure size 432x288 with 1 Axes>"
      ]
     },
     "metadata": {},
     "output_type": "display_data"
    }
   ],
   "source": [
    "imnum = 1941\n",
    "x=test_images[imnum]\n",
    "label=test_labels[imnum]\n",
    "print('True label: ',class_names[label])\n",
    "print('Predicted: ',class_names[np.argmax(f_predict(x.reshape(1,784),tr_copy,printq=False))])\n",
    "plt.title('Predicted label: {}\\n True label: {}'.format(class_names[np.argmax(f_predict(x.reshape(1,784),tr_copy,printq= False))],class_names[label]))\n",
    "plt.imshow(x, cmap=plt.cm.gray_r, interpolation='nearest')\n",
    "\n",
    "#label=mnist_part_test_label[imnum]\n",
    "#plt.title('Predicted label: {}\\n True label: {}'.format(np.argmax(net1.predict(np.array([x]),printq= False)),np.argmax(label)))\n",
    "#plt.imshow(norm1, cmap=plt.cm.gray_r, interpolation='nearest')"
   ]
  },
  {
   "cell_type": "code",
   "execution_count": null,
   "metadata": {
    "collapsed": true
   },
   "outputs": [],
   "source": []
  }
 ],
 "metadata": {
  "celltoolbar": "Raw Cell Format",
  "kernelspec": {
   "display_name": "Python 3.6.5",
   "language": "python",
   "name": "myenv"
  },
  "language_info": {
   "codemirror_mode": {
    "name": "ipython",
    "version": 3
   },
   "file_extension": ".py",
   "mimetype": "text/x-python",
   "name": "python",
   "nbconvert_exporter": "python",
   "pygments_lexer": "ipython3",
   "version": "3.6.6"
  }
 },
 "nbformat": 4,
 "nbformat_minor": 2
}

